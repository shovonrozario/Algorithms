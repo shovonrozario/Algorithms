{
 "cells": [
  {
   "cell_type": "code",
   "execution_count": 45,
   "metadata": {
    "collapsed": false
   },
   "outputs": [],
   "source": [
    "import numpy as np\n",
    "from scipy.spatial import distance\n",
    "\n",
    "class KNNClassifier:\n",
    "    def __init__(self, k=1):\n",
    "        self.k = k\n",
    "        \n",
    "    def fit(self, trainingFeatures, trainingLabels):\n",
    "        self.trainingFeatures = trainingFeatures\n",
    "        self.trainingLabels = trainingLabels\n",
    "        \n",
    "    def predict(self, testFeatures):\n",
    "        predictedLabels = []\n",
    "        \n",
    "        for testFeatureRow in testFeatures:\n",
    "            predictedLabel = self.nearestLabel(testFeatureRow)\n",
    "            predictedLabels.append(predictedLabel)\n",
    "        \n",
    "        return predictedLabels\n",
    "    \n",
    "    def nearestLabel(self, featureRow):\n",
    "        distanceLabelMatrix = np.array([(self.euclideanDistance(featureRow, self.trainingFeatures[i]), self.trainingLabels[i]) for i in range(len(self.trainingFeatures))], dtype = [('distance', float),('label', int)] )\n",
    "        distanceLabelMatrix.sort(order = 'distance')\n",
    "        nearestLabels = {}\n",
    "        \n",
    "        for i in range(self.k):\n",
    "            label = distanceLabelMatrix[i][1]\n",
    "            \n",
    "            if label in nearestLabels:\n",
    "                nearestLabels[label] += 1\n",
    "            else:\n",
    "                nearestLabels[label] = 0\n",
    "                \n",
    "        return max(nearestLabels, key = nearestLabels.get)\n",
    "    \n",
    "    def euclideanDistance(self, point1, point2):\n",
    "        return distance.euclidean(point1, point2)"
   ]
  }
 ],
 "metadata": {
  "kernelspec": {
   "display_name": "Python 2",
   "language": "python",
   "name": "python2"
  },
  "language_info": {
   "codemirror_mode": {
    "name": "ipython",
    "version": 2
   },
   "file_extension": ".py",
   "mimetype": "text/x-python",
   "name": "python",
   "nbconvert_exporter": "python",
   "pygments_lexer": "ipython2",
   "version": "2.7.13"
  }
 },
 "nbformat": 4,
 "nbformat_minor": 2
}
